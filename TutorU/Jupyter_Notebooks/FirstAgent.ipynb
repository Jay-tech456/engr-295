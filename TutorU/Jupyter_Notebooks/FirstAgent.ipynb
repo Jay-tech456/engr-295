{
 "cells": [
  {
   "cell_type": "code",
   "execution_count": 46,
   "id": "e3b21937-4d73-4220-bcaf-809491a35c04",
   "metadata": {},
   "outputs": [],
   "source": [
    "# !pip install -U langgraph langsmith"
   ]
  },
  {
   "cell_type": "code",
   "execution_count": 1,
   "id": "dd3f8b97-681e-4a9d-aa7b-eae92fa33cc7",
   "metadata": {},
   "outputs": [],
   "source": [
    "# from typing import Annotated\n",
    "# from typing_extensions import TypedDict\n",
    "\n",
    "# from langgraph.graph import StateGraph, START, END\n",
    "# from langgraph.graph.message import add_messages\n",
    "# from langchain.chat_models import init_chat_model\n"
   ]
  },
  {
   "cell_type": "code",
   "execution_count": 2,
   "id": "5119ce0b-0b35-473f-9097-67379afdd840",
   "metadata": {},
   "outputs": [],
   "source": [
    "# class State(TypedDict):\n",
    "#     # Messages have the type \"list\". The `add_messages` function\n",
    "#     # in the annotation defines how this state key should be updated\n",
    "#     # (in this case, it appends messages to the list, rather than overwriting them)\n",
    "#     messages: Annotated[list, add_messages]\n",
    "\n",
    "\n",
    "# graph_builder = StateGraph(State)"
   ]
  },
  {
   "cell_type": "code",
   "execution_count": 3,
   "id": "103b6b96-7517-451b-8512-61d9244d1a46",
   "metadata": {},
   "outputs": [],
   "source": [
    "# from langchain.chat_models import init_chat_model\n",
    "\n",
    "# # Initialize the Mistral model\n",
    "# llm = init_chat_model(\"mistral-large-latest\", model_provider=\"mistralai\", api_key=\"ERbtRhtyGei4jY4AXn4QkrWSfGzlpLbP\")\n",
    "\n",
    "\n",
    "# def chatbot(state: State):\n",
    "#     \"\"\"\n",
    "#     Function to handle the chatbot node.\n",
    "#     It takes the current state and returns the AI response.\n",
    "#     \"\"\"\n",
    "#     response = llm.invoke(state[\"messages\"])\n",
    "#     return {\"messages\": [response]}\n",
    "\n",
    "# # Add the chatbot node to the graph\n",
    "# graph_builder.add_node(\"chatbot\", chatbot)\n"
   ]
  },
  {
   "cell_type": "code",
   "execution_count": 4,
   "id": "675fd3e5-f97d-4e9b-9156-67026792ebc6",
   "metadata": {},
   "outputs": [],
   "source": [
    "# graph_builder.add_edge(START, \"chatbot\")"
   ]
  },
  {
   "cell_type": "code",
   "execution_count": 5,
   "id": "4a168d48-8d77-4953-bc01-0b61f600be8f",
   "metadata": {},
   "outputs": [],
   "source": [
    "# graph_builder.add_edge(\"chatbot\", END)"
   ]
  },
  {
   "cell_type": "code",
   "execution_count": 6,
   "id": "4e5ffceb-00f7-4623-9ee5-0dc94a0c70ef",
   "metadata": {},
   "outputs": [],
   "source": [
    "# graph = graph_builder.compile()"
   ]
  },
  {
   "cell_type": "code",
   "execution_count": 7,
   "id": "0840f7b7-c1ce-4e11-8c90-fa84bb996756",
   "metadata": {},
   "outputs": [],
   "source": [
    "# from IPython.display import Image, display\n",
    "\n",
    "# try:\n",
    "#     display(Image(graph.get_graph().draw_mermaid_png()))\n",
    "# except Exception:\n",
    "#     pass"
   ]
  },
  {
   "cell_type": "code",
   "execution_count": 8,
   "id": "4791f232-8bb3-456e-8f3b-8f51e5daf927",
   "metadata": {},
   "outputs": [],
   "source": [
    "# def stream_graph_updates(user_input: str):\n",
    "#     for event in graph.stream({\"messages\": [{\"role\": \"user\", \"content\": user_input}]}):\n",
    "#         for value in event.values():\n",
    "#             print(\"Assistant:\", value[\"messages\"][-1].content)\n",
    "\n",
    "\n",
    "# while True:\n",
    "#     try:\n",
    "#         user_input = input(\"User: \")\n",
    "#         if user_input.lower() in [\"quit\", \"exit\", \"q\"]:\n",
    "#             print(\"Goodbye!\")\n",
    "#             break\n",
    "\n",
    "#         stream_graph_updates(user_input)\n",
    "#     except:\n",
    "#         user_input = \"What do you know about LangGraph?\"\n",
    "#         print(\"User: \" + user_input)\n",
    "#         stream_graph_updates(user_input)\n",
    "#         break"
   ]
  },
  {
   "cell_type": "code",
   "execution_count": null,
   "id": "cb225a62-1778-4063-9b3d-7c0a87df5f41",
   "metadata": {},
   "outputs": [],
   "source": []
  },
  {
   "cell_type": "code",
   "execution_count": 9,
   "id": "fdf7c125-f2cb-4af6-b96b-f57e2ed40d29",
   "metadata": {},
   "outputs": [],
   "source": [
    "# Version  2 : Invoking a Tool with the model"
   ]
  },
  {
   "cell_type": "code",
   "execution_count": 10,
   "id": "dad0170f-d729-4ef1-9194-ef6e846c40fd",
   "metadata": {},
   "outputs": [],
   "source": [
    "# from typing import Dict\n",
    "# from langchain.tools import tool\n",
    "\n",
    "# # Create a basic math tool\n",
    "# @tool(\"basic_math\")\n",
    "# def basic_math_tool(operation: str, a: float, b: float) -> Dict:\n",
    "#     \"\"\"\n",
    "#     A simple math tool that performs addition, subtraction, multiplication, and division.\n",
    "\n",
    "#     Args:\n",
    "#     - operation (str): The math operation to perform (add, subtract, multiply, divide).\n",
    "#     - a (float): First number.\n",
    "#     - b (float): Second number.\n",
    "\n",
    "#     Returns:\n",
    "#     - Dict: The result of the operation.\n",
    "#     \"\"\"\n",
    "#     if operation == \"add\":\n",
    "#         return {\"result\": a + b}\n",
    "#     elif operation == \"subtract\":\n",
    "#         return {\"result\": a - b}\n",
    "#     elif operation == \"multiply\":\n",
    "#         return {\"result\": a * b}\n",
    "#     elif operation == \"divide\":\n",
    "#         if b == 0:\n",
    "#             return {\"error\": \"Cannot divide by zero\"}\n",
    "#         return {\"result\": a / b}\n",
    "#     else:\n",
    "#         return {\"error\": \"Invalid operation\"}\n"
   ]
  },
  {
   "cell_type": "code",
   "execution_count": 11,
   "id": "67d4cd60-7f0e-46ab-95a9-beb774cce942",
   "metadata": {},
   "outputs": [],
   "source": [
    "# from typing import Annotated\n",
    "\n",
    "# from langchain.chat_models import init_chat_model\n",
    "# from typing_extensions import TypedDict\n",
    "\n",
    "# from langgraph.graph import StateGraph, START, END\n",
    "# from langgraph.graph.message import add_messages"
   ]
  },
  {
   "cell_type": "code",
   "execution_count": 12,
   "id": "877bcc2d-4ed1-4f8c-9e71-dcce53d17a56",
   "metadata": {},
   "outputs": [],
   "source": [
    "# class State(TypedDict):\n",
    "#     messages: Annotated[list, add_messages]"
   ]
  },
  {
   "cell_type": "code",
   "execution_count": 13,
   "id": "17ffcc91-a152-49b6-9c77-114d3a842ab0",
   "metadata": {},
   "outputs": [],
   "source": [
    "# graph_builder = StateGraph(State)"
   ]
  },
  {
   "cell_type": "code",
   "execution_count": 14,
   "id": "cb5fe879-2d81-46b9-a8b5-45ade2f4724d",
   "metadata": {},
   "outputs": [],
   "source": [
    "# from langchain.schema import HumanMessage, AIMessage\n",
    "\n",
    "# def tool_node(state: State):\n",
    "#     \"\"\"\n",
    "#     Node that invokes the math tool.\n",
    "#     \"\"\"\n",
    "#     # Extract the last message correctly\n",
    "#     last_message = state[\"messages\"][-1]\n",
    "    \n",
    "#     # Check if the message is an instance of HumanMessage\n",
    "#     if isinstance(last_message, HumanMessage):\n",
    "#         message = last_message.content.lower()\n",
    "#     else:\n",
    "#         message = str(last_message)  # Fallback for unexpected types\n",
    "\n",
    "#     # Math tool invocation\n",
    "#     if \"calculate\" in message:\n",
    "#         try:\n",
    "#             _, operation, a, b = message.split()  # Extract parameters\n",
    "#             a, b = float(a), float(b)  # Convert to floats\n",
    "#             result = basic_math_tool(operation, a, b)\n",
    "\n",
    "#             response = f\"Result: {result['result']}\" if \"result\" in result else result['error']\n",
    "\n",
    "#         except (ValueError, IndexError):\n",
    "#             response = \"Invalid input. Use format: 'calculate add 10 5'.\"\n",
    "\n",
    "#     else:\n",
    "#         response = \"I can only calculate math operations.\"\n",
    "\n",
    "#     # Return the message in the correct format\n",
    "#     return {\"messages\": [AIMessage(content=response)]}\n"
   ]
  },
  {
   "cell_type": "code",
   "execution_count": 15,
   "id": "37cc03fb-4325-42b2-a9cf-9b597b976ef0",
   "metadata": {},
   "outputs": [],
   "source": [
    "# # Add the tool node to the graph\n",
    "# graph_builder.add_node(\"math_tool\", tool_node)\n",
    "\n",
    "# def chatbot(state: State):\n",
    "#     \"\"\"\n",
    "#     LLM node that handles the chatbot interactions.\n",
    "#     \"\"\"\n",
    "#     # Convert messages to dictionaries with \"role\" and \"content\"\n",
    "#     llm_messages = [\n",
    "#         {\n",
    "#             \"role\": \"user\" if isinstance(msg, HumanMessage) else \"ai\",\n",
    "#             \"content\": msg.content\n",
    "#         }\n",
    "#         for msg in state[\"messages\"]\n",
    "#     ]\n",
    "\n",
    "#     # Invoke the LLM with properly formatted messages\n",
    "#     response = llm.invoke(llm_messages)\n",
    "\n",
    "#     # Return the AI's response\n",
    "#     return {\"messages\": [AIMessage(content=response)]}\n"
   ]
  },
  {
   "cell_type": "code",
   "execution_count": 16,
   "id": "aff959db-bc58-4dcc-b16f-841680d37f2c",
   "metadata": {},
   "outputs": [],
   "source": [
    "# # Add LLM node\n",
    "# graph_builder.add_node(\"chatbot\", chatbot)\n",
    "\n",
    "# graph_builder.set_entry_point(\"math_tool\")\n",
    "# graph_builder.add_edge(\"math_tool\", \"chatbot\")\n",
    "# graph_builder.add_edge(\"chatbot\", END)"
   ]
  },
  {
   "cell_type": "code",
   "execution_count": 17,
   "id": "78e5c59e-554b-47bf-8f32-5965dd40d540",
   "metadata": {},
   "outputs": [],
   "source": [
    "# graph = graph_builder.compile()"
   ]
  },
  {
   "cell_type": "code",
   "execution_count": 18,
   "id": "c61c7607-e5fb-46ec-a627-724792bab814",
   "metadata": {},
   "outputs": [],
   "source": [
    "# from IPython.display import Image, display\n",
    "\n",
    "# try:\n",
    "#     display(Image(graph.get_graph().draw_mermaid_png()))\n",
    "# except Exception:\n",
    "#     pass"
   ]
  },
  {
   "cell_type": "code",
   "execution_count": 19,
   "id": "1bb54401-e293-4520-9f9b-f025079d2c93",
   "metadata": {},
   "outputs": [],
   "source": [
    "# # Import message types\n",
    "# from langchain.schema import HumanMessage, AIMessage\n",
    "\n",
    "# # Initialize state with proper message types\n",
    "# state = {\"messages\": [HumanMessage(content=\"calculate add 10 5\")]}  \n",
    "\n",
    "# # Run the graph\n",
    "# output = graph.invoke(state)\n",
    "\n",
    "# # Print the AI's response\n",
    "# print(\"AI Response:\", output[\"messages\"][-1].content)\n"
   ]
  },
  {
   "cell_type": "code",
   "execution_count": null,
   "id": "2c11d4f1-4969-4b00-819e-f38c1c1e641c",
   "metadata": {},
   "outputs": [],
   "source": []
  },
  {
   "cell_type": "code",
   "execution_count": null,
   "id": "79ff038b-eaf6-42fa-85a1-91475d12f56d",
   "metadata": {},
   "outputs": [],
   "source": []
  },
  {
   "cell_type": "code",
   "execution_count": 20,
   "id": "85919e01-efe1-4bf8-a6c8-c00f1b98cae5",
   "metadata": {},
   "outputs": [],
   "source": [
    "# !pip install -q langgraph langchain\n",
    "\n",
    "# from typing import Annotated\n",
    "# from typing_extensions import TypedDict\n",
    "# from langchain.schema import HumanMessage, AIMessage\n",
    "# from langchain.chat_models import init_chat_model\n",
    "# from langchain.tools import tool\n",
    "# from langgraph.graph import StateGraph\n",
    "# from langgraph.graph.message import add_messages\n",
    "\n",
    "# # Create a simple math tool\n",
    "# @tool(\"basic_math\")\n",
    "# def basic_math_tool(operation: str, a: float, b: float):\n",
    "#     \"\"\"\n",
    "#     A simple math tool that performs basic operations.\n",
    "    \n",
    "#     Args:\n",
    "#     - operation (str): The operation (add, subtract, multiply, divide).\n",
    "#     - a (float): The first number.\n",
    "#     - b (float): The second number.\n",
    "\n",
    "#     Returns:\n",
    "#     - dict: Result of the operation or an error message.\n",
    "#     \"\"\"\n",
    "#     if operation == \"add\":\n",
    "#         return {\"result\": a + b}\n",
    "#     elif operation == \"subtract\":\n",
    "#         return {\"result\": a - b}\n",
    "#     elif operation == \"multiply\":\n",
    "#         return {\"result\": a * b}\n",
    "#     elif operation == \"divide\":\n",
    "#         if b == 0:\n",
    "#             return {\"error\": \"Cannot divide by zero\"}\n",
    "#         return {\"result\": a / b}\n",
    "#     else:\n",
    "#         return {\"error\": \"Invalid operation\"}"
   ]
  },
  {
   "cell_type": "code",
   "execution_count": 21,
   "id": "33a95565-1906-462a-887b-345da5db3fcf",
   "metadata": {},
   "outputs": [],
   "source": [
    "\n",
    "# # Define the state with messages containing 'role' and 'content'\n",
    "# class ChatState(TypedDict):\n",
    "#     messages: Annotated[list, add_messages]\n",
    "\n"
   ]
  },
  {
   "cell_type": "code",
   "execution_count": 22,
   "id": "89d8a5f1-c5bf-474e-bba7-450b6d0dabd7",
   "metadata": {},
   "outputs": [],
   "source": [
    "# # Initialize the Mistral LLM\n",
    "# llm = init_chat_model(\"mistral-large-latest\", model_provider=\"mistralai\")\n"
   ]
  },
  {
   "cell_type": "code",
   "execution_count": 23,
   "id": "4b52ebe8-be08-4a0d-9392-e582d0d75750",
   "metadata": {},
   "outputs": [],
   "source": [
    "# # Initialize the graph\n",
    "# graph_builder = StateGraph(ChatState)"
   ]
  },
  {
   "cell_type": "code",
   "execution_count": 24,
   "id": "9bed2957-e926-4606-ac7d-dc3122123254",
   "metadata": {},
   "outputs": [],
   "source": [
    "\n",
    "# # Define the chatbot node\n",
    "# def chatbot(state: ChatState):\n",
    "#     \"\"\"\n",
    "#     Chatbot function that invokes the math tool if the user asks for a calculation.\n",
    "#     \"\"\"\n",
    "#     last_message = state[\"messages\"][-1]\n",
    "\n",
    "#     # Ensure the message is from the user\n",
    "#     if isinstance(last_message, HumanMessage):\n",
    "#         message = last_message.content.lower()\n",
    "\n",
    "#         # Check if the message asks for a calculation (e.g., \"calculate add 10 5\")\n",
    "#         if \"calculate\" in message:\n",
    "#             try:\n",
    "#                 # Extract the operation and numbers\n",
    "#                 _, operation, a, b = message.split()\n",
    "#                 a, b = float(a), float(b)  # Convert to float\n",
    "                \n",
    "#                 # Invoke the math tool correctly\n",
    "#                 result = basic_math_tool({\"operation\": operation, \"a\": a, \"b\": b})\n",
    "\n",
    "#                 # Prepare the response\n",
    "#                 if \"result\" in result:\n",
    "#                     response = f\"Result: {result['result']}\"\n",
    "#                 else:\n",
    "#                     response = result['error']\n",
    "#             except (ValueError, IndexError):\n",
    "#                 response = \"Invalid input. Use format: 'calculate add 10 5'.\"\n",
    "#         else:\n",
    "#             # If it's not a calculation request, use the LLM to process the message\n",
    "#             response = llm.invoke([{\"role\": \"user\", \"content\": message}])\n",
    "\n",
    "#     else:\n",
    "#         response = \"I can only respond to text messages.\"\n",
    "\n",
    "#     return {\"messages\": [AIMessage(content=response)]}"
   ]
  },
  {
   "cell_type": "code",
   "execution_count": 25,
   "id": "fc7ff2e6-19b8-46aa-92db-bcb8e29a1cda",
   "metadata": {},
   "outputs": [],
   "source": [
    "\n",
    "# # Add the chatbot node to the graph\n",
    "# graph_builder.add_node(\"chatbot\", chatbot)\n"
   ]
  },
  {
   "cell_type": "code",
   "execution_count": 26,
   "id": "1a8fe9a4-aba3-40e3-829f-eb8ed0e9d37c",
   "metadata": {},
   "outputs": [],
   "source": [
    "# # Set the entry point for the graph\n",
    "# graph_builder.set_entry_point(\"chatbot\")"
   ]
  },
  {
   "cell_type": "code",
   "execution_count": 27,
   "id": "ec0430b1-850e-4cd9-9ef9-36c494dd4044",
   "metadata": {},
   "outputs": [],
   "source": [
    "# # Compile the graph\n",
    "# graph = graph_builder.compile()\n"
   ]
  },
  {
   "cell_type": "code",
   "execution_count": 28,
   "id": "fecfb70e-0d62-4134-8218-654d7c7fd400",
   "metadata": {},
   "outputs": [],
   "source": [
    "# from IPython.display import Image, display\n",
    "\n",
    "# try:\n",
    "#     display(Image(graph.get_graph().draw_mermaid_png()))\n",
    "# except Exception:\n",
    "#     pass"
   ]
  },
  {
   "cell_type": "code",
   "execution_count": 29,
   "id": "3135b230-93a0-46b3-9335-cc595200f42d",
   "metadata": {},
   "outputs": [],
   "source": [
    "# # Initialize the state with a user message\n",
    "# state = {\"messages\": [HumanMessage(content=\"calculate add 10 5\")]}\n",
    "# # Run the graph\n",
    "# output = graph.invoke(state)\n",
    "\n",
    "# # Print the AI response\n",
    "# print(\"AI Response:\", output[\"messages\"][-1].content)"
   ]
  },
  {
   "cell_type": "code",
   "execution_count": null,
   "id": "cc14f0ea",
   "metadata": {},
   "outputs": [],
   "source": []
  },
  {
   "cell_type": "code",
   "execution_count": null,
   "id": "da7d91e4",
   "metadata": {},
   "outputs": [],
   "source": []
  },
  {
   "cell_type": "code",
   "execution_count": 30,
   "id": "b0e48eb8",
   "metadata": {},
   "outputs": [],
   "source": [
    "# Version 3 with Retrieval Tool"
   ]
  },
  {
   "cell_type": "code",
   "execution_count": 31,
   "id": "a1e87d3d",
   "metadata": {},
   "outputs": [],
   "source": [
    "from dotenv import load_dotenv\n",
    "import os\n",
    "\n",
    "\n",
    "mistral_key = os.getenv('MISTRAL_API_KEY') or \"ERbtRhtyGei4jY4AXn4QkrWSfGzlpLbP\"\n",
    "\n",
    "\n",
    "pinecone_key = os.getenv('PINECONE_API_KEY') or \"pcsk_4JbxFQ_ER3PXrERZ8MZCFnuCVVvSSyMvwwbY12TNjS9v3mvhArhqRBKSL3ybBVRxyRFUge\"\n",
    "\n",
    "index_name = os.getenv(\"INDEX_NAME\") or \"physics\"\n",
    "\n",
    "nomic_api = os.getenv(\"NOMIC_API_KEY\") or \"nk-P3wRGEV1vGYbvKVMHbFyC3wn6e1NgfgKHt8CEyjYmpo\"\n",
    "\n",
    "# print(mistral_key)\n",
    "# print(pinecone_key)\n",
    "# print(index_name)\n",
    "\n",
    "\n"
   ]
  },
  {
   "cell_type": "code",
   "execution_count": 32,
   "id": "5d01771a",
   "metadata": {},
   "outputs": [],
   "source": [
    "from langchain_ollama import OllamaEmbeddings\n",
    "from langchain_nomic import NomicEmbeddings\n",
    "from langchain_mistralai import ChatMistralAI\n",
    "\n",
    "embeddings = OllamaEmbeddings(\n",
    "    model=\"nomic-embed-text\"\n",
    ")\n",
    "\n",
    "\n",
    "mistral_model = ChatMistralAI(model=\"mistral-large-latest\", temperature=0, api_key=mistral_key)"
   ]
  },
  {
   "cell_type": "code",
   "execution_count": 33,
   "id": "17346e79",
   "metadata": {},
   "outputs": [],
   "source": [
    "import os\n",
    "from pinecone import Pinecone, ServerlessSpec\n",
    "from langchain.docstore.document import Document\n",
    "import numpy as np\n",
    "from langchain_community.embeddings import OllamaEmbeddings\n",
    "from langchain_pinecone import PineconeVectorStore\n",
    "import time \n",
    "\n",
    "\n",
    "class PineconeVectorStore:\n",
    "    def __init__(self, index_name, embedding, pinecone_api_key):\n",
    "        \n",
    "        self.pc = Pinecone(api_key=pinecone_api_key)\n",
    "        self.embedding = embedding\n",
    "        \n",
    "\n",
    "        existing_indexes = [index_info[\"name\"] for index_info in self.pc.list_indexes()]\n",
    "\n",
    "        # Check to see if the index already exist, if it does, it will connect it. \n",
    "        # By default, it will create an index\n",
    "        if index_name not in existing_indexes:\n",
    "            self.pc.create_index(\n",
    "                name=index_name,\n",
    "                dimension=768,\n",
    "                metric=\"cosine\",\n",
    "                spec=ServerlessSpec(cloud=\"aws\", region=\"us-east-1\"),\n",
    "            )\n",
    "            while not self.pc.describe_index(index_name).status[\"ready\"]:\n",
    "                time.sleep(1)\n",
    "\n",
    "        \n",
    "        # Access the Pinecone index\n",
    "        self.index = self.pc.Index(index_name)\n",
    "        print(\"Vector Store Successfully connected\")\n",
    "\n",
    "    \n",
    "\n",
    "    def similarity_search_by_vector(self, query, k=5):\n",
    "        \"\"\"Perform similarity search in Pinecone.\"\"\"\n",
    "        # Perform similarity search with the given embedding\n",
    "        embedding = self.embedding.embed_query(query)\n",
    "        results = self.index.query(\n",
    "            vector=embedding,\n",
    "            top_k=k,\n",
    "            include_values=False,\n",
    "            include_metadata=True,\n",
    "        )\n",
    "        \n",
    "        \n",
    "        if results.get(\"matches\"):\n",
    "            return [\n",
    "                Document(\n",
    "                    page_content=f\"Sub-topic: {result['metadata'].get('sub_topic', 'N/A')}\\n\"\n",
    "                                f\"Text: {result['metadata'].get('text', 'N/A')}\\n\"\n",
    "                                f\"Role: {result['metadata'].get('role_1', 'N/A')}\\n\"\n",
    "                                f\"Source: {result['metadata'].get('source', 'N/A')}\", \n",
    "                    metadata=result['metadata']\n",
    "                )\n",
    "                for result in results['matches']\n",
    "            ]\n",
    "        else:\n",
    "            print(\"No matches found\")\n",
    "            return []\n",
    "\n",
    "\n",
    "    def as_retriever(self):\n",
    "        \"\"\"Return the vector store as a retriever.\"\"\"\n",
    "        return self\n"
   ]
  },
  {
   "cell_type": "code",
   "execution_count": 34,
   "id": "8f24eaed",
   "metadata": {},
   "outputs": [
    {
     "name": "stdout",
     "output_type": "stream",
     "text": [
      "Vector Store Successfully connected\n"
     ]
    }
   ],
   "source": [
    "pineconevs = PineconeVectorStore(index_name, embeddings, pinecone_key)"
   ]
  },
  {
   "cell_type": "code",
   "execution_count": 35,
   "id": "7c871323",
   "metadata": {},
   "outputs": [
    {
     "name": "stdout",
     "output_type": "stream",
     "text": [
      "[Document(metadata={'content': 'To find the force generated during a muscle contraction, we can use the formula:\\n\\nForce (F) = Tension (T) × Cross-sectional area (A)\\n\\nGiven the maximum tension (T) is 80 N/cm² and the cross-sectional area (A) is 50 cm², we can plug these values into the formula:\\n\\nF = 80 N/cm² × 50 cm²\\n\\nF = 4000 N\\n\\nTherefore, the force generated during a muscle contraction is 4000 Newtons.', 'role_1': 'Physicist_RoleType.ASSISTANT', 'source': '025_008_003.json', 'sub_topic': 'Analyzing the mechanics of muscle contraction.', 'topic': 'Biophysics'}, page_content='Sub-topic: Analyzing the mechanics of muscle contraction.\\nText: N/A\\nRole: Physicist_RoleType.ASSISTANT\\nSource: 025_008_003.json'), Document(metadata={'content': 'In a quantum harmonic oscillator, the ground state wave function is given by the Gaussian function:\\n\\nψ(x) = (α/π)^(1/4) * exp(-αx^2/2)\\n\\nwhere α = (mω/ħ) and ω = sqrt(k/m) is the angular frequency of the oscillator.\\n\\nThe average position of the particle in the ground state can be calculated using the expectation value of the position operator:\\n\\n<x> = ∫ψ*(x) * x * ψ(x) dx\\n\\nwhere ψ*(x) is the complex conjugate of the wave function, and the integral is taken over all space. Since the ground state wave function is real, ψ*(x) = ψ(x). Therefore, we have:\\n\\n<x> = ∫(α/π)^(1/2) * exp(-αx^2) * x * (α/π)^(1/2) * exp(-αx^2) dx\\n\\nSimplifying the expression, we get:\\n\\n<x> = (α/π) * ∫x * exp(-2αx^2) dx\\n\\nNow, we can use integration by parts to solve the integral. Let u = x and dv = exp(-2αx^2) dx. Then, du = dx and v = -1/(4α) * exp(-2αx^2). Using the integration by parts formula, we get:\\n\\n∫x * exp(-2αx^2) dx = -x/(4α) * exp(-2αx^2) - ∫(-1/(4α)) * exp(-2αx^2) dx\\n\\nThe first term in the expression goes to zero as x goes to ±∞. The second term is a constant times the Gaussian integral, which is equal to sqrt(π/(2α)). Therefore, we have:\\n\\n∫x * exp(-2αx^2) dx = 1/(8α^2) * sqrt(π/(2α))\\n\\nNow, we can plug this back into the expression for the expectation value of the position:\\n\\n<x> = (α/π) * 1/(8α^2) * sqrt(π/(2α))\\n\\nSimplifying, we get:\\n\\n<x> = 1/(8α^3/2)\\n\\nHowever, since the ground state wave function is symmetric about the origin, the average position of the particle is actually zero. This can be seen more clearly by noting that the integrand x * exp(-2αx^2) is an odd function, and the integral of an odd function over symmetric limits (in this case, ±∞) is zero. Therefore, the average position of the particle in the ground state of the quantum harmonic oscillator is:\\n\\n<x> = 0', 'role_1': 'Physicist_RoleType.ASSISTANT', 'source': '001_007_018.json', 'sub_topic': 'The quantum harmonic oscillator', 'topic': 'Quantum mechanics'}, page_content='Sub-topic: The quantum harmonic oscillator\\nText: N/A\\nRole: Physicist_RoleType.ASSISTANT\\nSource: 001_007_018.json'), Document(metadata={'content': \"To solve this problem, we will use the geodesic equation of general relativity, which describes the motion of a particle in a curved spacetime. For a circular orbit in the Schwarzschild metric, the geodesic equation can be simplified to:\\n\\n(1) Φ' = √(GM/(r^3))\\n\\nwhere Φ' is the angular velocity, G is the gravitational constant, M is the mass of the planet, and r is the radius of the orbit.\\n\\nFirst, let's convert the given values to SI units:\\n- Radius of the planet: 10,000 km = 1 x 10^7 m\\n- Mass of the planet: 6 x 10^24 kg\\n- Radius of the orbit: 20,000 km = 2 x 10^7 m\\n\\nNow, we can plug these values into equation (1) to find the angular velocity:\\n\\nΦ' = √((6.674 x 10^-11 m^3 kg^-1 s^-2) * (6 x 10^24 kg) / ((2 x 10^7 m)^3))\\nΦ' ≈ 1.207 x 10^-4 s^-1\\n\\nThe angular velocity of the satellite's orbit is approximately 1.207 x 10^-4 s^-1.\\n\\nTo find the period of the satellite's orbit, we can use the following equation:\\n\\n(2) T = 2π / Φ'\\n\\nPlugging in the angular velocity we found:\\n\\nT = 2π / (1.207 x 10^-4 s^-1)\\nT ≈ 52064 s\\n\\nThe period of the satellite's orbit is approximately 52064 seconds, or about 14.46 hours.\", 'role_1': 'Physicist_RoleType.ASSISTANT', 'source': '004_004_001.json', 'sub_topic': 'The geodesic equation and its applications', 'topic': 'General relativity'}, page_content='Sub-topic: The geodesic equation and its applications\\nText: N/A\\nRole: Physicist_RoleType.ASSISTANT\\nSource: 004_004_001.json'), Document(metadata={'content': 'To calculate the relativistic mass of the proton, we need to use the following formula:\\n\\nm = m0 / sqrt(1 - v^2/c^2)\\n\\nwhere m is the relativistic mass, m0 is the rest mass of the proton, v is the speed of the proton, and c is the speed of light.\\n\\nGiven:\\nm0 = 1.67 x 10^-27 kg\\nv = 0.8c\\nc = 3.00 x 10^8 m/s\\n\\nFirst, we need to find v^2/c^2:\\n\\nv^2/c^2 = (0.8c)^2 / c^2 = 0.64c^2 / c^2 = 0.64\\n\\nNow, we can calculate 1 - v^2/c^2:\\n\\n1 - v^2/c^2 = 1 - 0.64 = 0.36\\n\\nNext, we find the square root of this value:\\n\\nsqrt(1 - v^2/c^2) = sqrt(0.36) = 0.6\\n\\nFinally, we can calculate the relativistic mass:\\n\\nm = m0 / sqrt(1 - v^2/c^2) = (1.67 x 10^-27 kg) / 0.6 ≈ 2.78 x 10^-27 kg\\n\\nSo, the relativistic mass of the proton traveling at 0.8c is approximately 2.78 x 10^-27 kg.', 'role_1': 'Physicist_RoleType.ASSISTANT', 'source': '005_011_013.json', 'sub_topic': 'Relativistic mass increase', 'topic': 'Special relativity'}, page_content='Sub-topic: Relativistic mass increase\\nText: N/A\\nRole: Physicist_RoleType.ASSISTANT\\nSource: 005_011_013.json'), Document(metadata={'content': 'To determine the amount of force produced by a muscle during a contraction, the student can use the following formula:\\n\\nForce (F) = Tension (T) × Cross-sectional area (A)\\n\\nwhere Tension is the tension generated by the muscle and Cross-sectional area is the area of the muscle.\\n\\nOnce the student has calculated the force, they can proceed to calculate the work done by the muscle during a single contraction. The formula for work done is:\\n\\nWork (W) = Force (F) × Distance (d)\\n\\nwhere Force is the force produced by the muscle (calculated in the previous step) and Distance is the distance over which the muscle contracts.\\n\\nAssuming a constant force is produced throughout the contraction, the student can simply multiply the calculated force by the distance the muscle contracts to find the work done by the muscle during a single contraction.', 'role_1': 'Physicist_RoleType.ASSISTANT', 'source': '025_008_025.json', 'sub_topic': 'Analyzing the mechanics of muscle contraction.', 'topic': 'Biophysics'}, page_content='Sub-topic: Analyzing the mechanics of muscle contraction.\\nText: N/A\\nRole: Physicist_RoleType.ASSISTANT\\nSource: 025_008_025.json')]\n"
     ]
    }
   ],
   "source": [
    "# Testing out the Pinecone vector store connectivity\n",
    "retriever = pineconevs.as_retriever()\n",
    "\n",
    "li = retriever.similarity_search_by_vector(\"Newton\")\n",
    "print(li)"
   ]
  },
  {
   "cell_type": "code",
   "execution_count": 36,
   "id": "1116c5da",
   "metadata": {},
   "outputs": [],
   "source": [
    "def retrieve(query: str) -> list:\n",
    "    \"\"\"\n",
    "    Retrieves Physics documents using cosine similarity search from Pinecone vector database.\n",
    "\n",
    "    Args:\n",
    "        query (str): Search query for physics datasets \n",
    "\n",
    "    Returns:\n",
    "        list: Matching top 5 documents  documents from Pinecone database\n",
    "    \"\"\"\n",
    "    retrieved_docs = pineconevs.similarity_search_by_vector(query)\n",
    "    return retrieved_docs"
   ]
  },
  {
   "cell_type": "code",
   "execution_count": 37,
   "id": "95f2b240",
   "metadata": {},
   "outputs": [
    {
     "data": {
      "text/plain": [
       "[Document(metadata={'content': 'Designing and implementing a quantum neural network (QNN) circuit to solve a classification problem involves several steps, including choosing a suitable problem, preparing the quantum data, designing the QNN architecture, training the network, and evaluating its performance. Here\\'s an outline of the process:\\n\\n1. Choose a suitable classification problem: For this example, let\\'s consider a simple binary classification problem, such as classifying the XOR function, where the input is a pair of binary values (0 or 1), and the output is their XOR.\\n\\n2. Prepare the quantum data: To encode classical data into quantum states, we can use the amplitude encoding method. For the XOR problem, we have four possible input pairs: (0,0), (0,1), (1,0), and (1,1). We can represent these as normalized quantum states:\\n\\n|ψ(0,0)⟩ = |00⟩\\n|ψ(0,1)⟩ = (|01⟩ + |10⟩) / √2\\n|ψ(1,0)⟩ = (|01⟩ - |10⟩) / √2\\n|ψ(1,1)⟩ = |11⟩\\n\\n3. Design the QNN architecture: A simple QNN architecture for this problem can consist of a single variational quantum circuit (VQC) with a few layers of parametrized gates. Each layer can have single-qubit rotations (RX, RY, and RZ) followed by entangling gates (CNOTs). The output of the VQC will be a single qubit, which will be measured in the computational basis to obtain the predicted class label.\\n\\n4. Training the network: To train the QNN, we need to define a cost function that quantifies the difference between the predicted labels and the true labels. A common choice is the cross-entropy loss. We can use classical optimization algorithms, such as gradient descent or the Adam optimizer, to update the parameters of the VQC to minimize the cost function. This process can be done using a hybrid quantum-classical approach, where the quantum circuit is executed on a quantum computer (or simulator), and the optimization is performed on a classical computer.\\n\\n5. Evaluate the performance: After training the QNN, we can evaluate its performance on a test dataset. For the XOR problem, we can use the same input pairs as the training set. The accuracy of the QNN can be calculated as the percentage of correct predictions out of the total number of input pairs.\\n\\nHere\\'s a high-level implementation using the PennyLane library in Python:\\n\\n```python\\nimport pennylane as qml\\nfrom pennylane import numpy as np\\n\\n# Define the quantum device\\ndev = qml.device(\"default.qubit\", wires=2)\\n\\n# Define the variational quantum circuit\\n@qml.qnode(dev)\\ndef qnn(params, x=None):\\n    # Encode the input data\\n    qml.templates.AngleEmbedding(x, wires=[0, 1])\\n    \\n    # Apply the parametrized gates\\n    for i in range(len(params)):\\n        qml.RX(params[i][0], wires=0)\\n        qml.RY(params[i][1], wires=0)\\n        qml.RZ(params[i][2], wires=0)\\n        qml.CNOT(wires=[0, 1])\\n    \\n    # Measure the output qubit\\n    return qml.expval(qml.PauliZ(0))\\n\\n# Define the cost function\\ndef cost(params, X, Y):\\n    predictions = [qnn(params, x=x) for x in X]\\n    return np.mean((predictions - Y) ** 2)\\n\\n# Prepare the training data\\nX = np.array([[0, 0], [0, 1], [1, 0], [1, 1]])\\nY = np.array([0, 1, 1, 0])\\n\\n# Initialize the parameters\\nparams = np.random.uniform(low=-np.pi, high=np.pi, size=(3, 3))\\n\\n# Train the QNN using gradient descent\\nopt = qml.GradientDescentOptimizer(stepsize=0.1)\\nfor i in range(100):\\n    params = opt.step(cost, params, X, Y)\\n\\n# Evaluate the performance\\naccuracy = np.mean([np.round(qnn(params, x=x)) == y for x, y in zip(X, Y)])\\nprint(\"Accuracy:\", accuracy)\\n```\\n\\nThis implementation provides a basic example of a quantum neural network for solving a binary classification problem. More complex problems and larger datasets may require more advanced QNN architectures, training techniques, and quantum hardware.', 'role_1': 'Physicist_RoleType.ASSISTANT', 'source': '023_025_005.json', 'sub_topic': 'Quantum computing with quantum neural networks', 'topic': 'Quantum computing'}, page_content='Sub-topic: Quantum computing with quantum neural networks\\nText: N/A\\nRole: Physicist_RoleType.ASSISTANT\\nSource: 023_025_005.json'),\n",
       " Document(metadata={'content': \"Quantum neural networks (QNNs) are a combination of quantum computing and classical neural networks. They leverage the principles of quantum mechanics, such as superposition and entanglement, to process and store information more efficiently than classical neural networks. QNNs can be used to solve optimization problems in quantum computing by exploiting the inherent parallelism and high-dimensional state space of quantum systems.\\n\\nHere's a detailed explanation of how QNNs can be used to solve optimization problems in quantum computing, along with some practical examples:\\n\\n1. Quantum parallelism: Quantum computers can perform multiple calculations simultaneously due to the principle of superposition. This allows QNNs to explore a vast solution space in parallel, which can significantly speed up the optimization process. For example, a QNN can be used to find the optimal solution for the traveling salesman problem, where the goal is to find the shortest possible route that visits a given set of cities and returns to the origin city. By leveraging quantum parallelism, a QNN can evaluate multiple routes simultaneously, potentially finding the optimal solution much faster than classical algorithms.\\n\\n2. Quantum entanglement: Entanglement is a unique quantum phenomenon that allows particles to be correlated in such a way that the state of one particle is dependent on the state of another, even when they are separated by large distances. QNNs can exploit entanglement to create highly correlated states, which can be useful for solving optimization problems that require global information. For instance, in a distributed sensor network, a QNN can be used to optimize the placement of sensors to maximize the coverage area while minimizing the number of sensors needed. By using entangled qubits, the QNN can efficiently process global information about the network and find the optimal configuration.\\n\\n3. Quantum annealing: Quantum annealing is a technique used to find the global minimum of a given objective function by exploiting quantum tunneling. QNNs can use quantum annealing to solve optimization problems by encoding the problem into a quantum system and then evolving the system to find the lowest energy state, which corresponds to the optimal solution. For example, a QNN can be used to solve the Ising model, a mathematical model used in statistical mechanics to describe the behavior of magnetic materials. By encoding the Ising model into a quantum system and using quantum annealing, the QNN can efficiently find the ground state of the system, which corresponds to the optimal configuration of the magnetic spins.\\n\\n4. Variational quantum algorithms: Variational quantum algorithms are a class of hybrid quantum-classical algorithms that use a parameterized quantum circuit to find the optimal solution to a given problem. QNNs can be used as part of variational quantum algorithms to solve optimization problems by iteratively updating the parameters of the quantum circuit to minimize a given cost function. For example, a QNN can be used to solve the Max-Cut problem, which involves partitioning the nodes of a graph into two sets to maximize the number of edges between the sets. By using a variational quantum algorithm, the QNN can efficiently find the optimal partitioning of the nodes.\\n\\nIn summary, quantum neural networks can be used to solve optimization problems in quantum computing by leveraging quantum parallelism, entanglement, quantum annealing, and variational quantum algorithms. These techniques allow QNNs to explore large solution spaces and process global information more efficiently than classical neural networks, making them a promising tool for solving complex optimization problems.\", 'role_1': 'Physicist_RoleType.ASSISTANT', 'source': '023_025_027.json', 'sub_topic': 'Quantum computing with quantum neural networks', 'topic': 'Quantum computing'}, page_content='Sub-topic: Quantum computing with quantum neural networks\\nText: N/A\\nRole: Physicist_RoleType.ASSISTANT\\nSource: 023_025_027.json'),\n",
       " Document(metadata={'content': 'A quantum neural network (QNN) is a type of quantum algorithm that combines the principles of quantum mechanics with the structure and functionality of artificial neural networks. QNNs can be used to solve problems in quantum mechanics, such as simulating the behavior of molecules and materials, by encoding and processing quantum information in a manner that is more efficient and accurate than classical methods.\\n\\nAdvantages of using quantum neural networks in this field compared to classical methods:\\n\\n1. Exponential speedup: Quantum computers can process information exponentially faster than classical computers due to the principles of superposition and entanglement. This speedup allows QNNs to simulate complex quantum systems more efficiently, reducing the time required to solve problems in quantum mechanics.\\n\\n2. High-dimensional data representation: Quantum bits (qubits) can represent high-dimensional data more efficiently than classical bits. This allows QNNs to handle the large amount of data required for simulating the behavior of molecules and materials, which often involves high-dimensional Hilbert spaces.\\n\\n3. Quantum parallelism: QNNs can take advantage of quantum parallelism, which allows them to perform multiple calculations simultaneously. This can lead to a significant reduction in the computational resources required for simulating quantum systems.\\n\\n4. Improved accuracy: QNNs can potentially provide more accurate solutions to quantum mechanical problems by directly encoding and processing quantum information, avoiding the approximations and discretizations often required in classical methods.\\n\\nLimitations of using quantum neural networks in this field:\\n\\n1. Limited availability of quantum hardware: Currently, there are only a few quantum computers available, and they have limited processing capabilities. This restricts the practical implementation of QNNs for solving problems in quantum mechanics.\\n\\n2. Noise and error rates: Quantum computers are highly susceptible to noise and errors, which can affect the performance of QNNs. Developing error-correcting codes and noise-resistant algorithms is an ongoing challenge in the field of quantum computing.\\n\\n3. Scalability: While QNNs can theoretically provide exponential speedup, scaling them up to solve large-scale problems in quantum mechanics may be challenging due to the limited number of qubits and the need for error correction.\\n\\n4. Lack of established algorithms and frameworks: The field of quantum machine learning, including QNNs, is still in its infancy. There is a lack of established algorithms, frameworks, and best practices for implementing QNNs, which may hinder their adoption in solving problems in quantum mechanics.\\n\\nIn conclusion, quantum neural networks have the potential to revolutionize the field of quantum mechanics by providing more efficient and accurate solutions to problems involving the simulation of molecules and materials. However, there are still several challenges to overcome, including the limited availability of quantum hardware, noise and error rates, scalability, and the lack of established algorithms and frameworks. As the field of quantum computing advances, it is expected that these limitations will be addressed, paving the way for the widespread adoption of QNNs in quantum mechanics research.', 'role_1': 'Physicist_RoleType.ASSISTANT', 'source': '023_025_015.json', 'sub_topic': 'Quantum computing with quantum neural networks', 'topic': 'Quantum computing'}, page_content='Sub-topic: Quantum computing with quantum neural networks\\nText: N/A\\nRole: Physicist_RoleType.ASSISTANT\\nSource: 023_025_015.json'),\n",
       " Document(metadata={'content': \"Quantum Neural Networks (QNNs) can be used to improve the efficiency of quantum computing in several ways:\\n\\n1. Exploiting quantum parallelism: QNNs can take advantage of quantum parallelism, which allows them to process multiple inputs simultaneously. This can lead to a significant speedup in solving complex problems compared to classical neural networks.\\n\\n2. Quantum entanglement: QNNs can utilize quantum entanglement, a phenomenon where the state of one qubit is dependent on the state of another qubit, even when they are separated by large distances. This can enable QNNs to perform complex computations more efficiently than classical neural networks.\\n\\n3. Quantum interference: QNNs can use quantum interference to improve the efficiency of their computations. Quantum interference is a phenomenon where the probability amplitudes of different quantum states can either constructively or destructively interfere with each other. This can be used to enhance the probability of finding the correct solution and reduce the probability of finding incorrect solutions.\\n\\n4. Improved optimization: QNNs can potentially solve optimization problems more efficiently than classical neural networks. Quantum computing algorithms, such as Grover's algorithm and quantum annealing, can be used to search for optimal weights and biases in the QNN, leading to faster convergence and better performance.\\n\\n5. Noise resilience: QNNs can be designed to be more resilient to noise and errors than classical neural networks. By using quantum error-correcting codes and fault-tolerant quantum computing techniques, QNNs can maintain their performance even in the presence of noise and errors.\\n\\n6. Hybrid quantum-classical architectures: QNNs can be integrated with classical neural networks to create hybrid quantum-classical architectures. These hybrid systems can combine the strengths of both quantum and classical computing, leading to improved efficiency and performance.\\n\\nIn summary, Quantum Neural Networks can improve the efficiency of quantum computing by exploiting quantum parallelism, entanglement, and interference, as well as by providing improved optimization, noise resilience, and hybrid quantum-classical architectures. However, it is important to note that the development of practical QNNs is still in its early stages, and many challenges remain to be addressed before they can be widely adopted for real-world applications.\", 'role_1': 'Physicist_RoleType.ASSISTANT', 'source': '023_025_032.json', 'sub_topic': 'Quantum computing with quantum neural networks', 'topic': 'Quantum computing'}, page_content='Sub-topic: Quantum computing with quantum neural networks\\nText: N/A\\nRole: Physicist_RoleType.ASSISTANT\\nSource: 023_025_032.json'),\n",
       " Document(metadata={'content': \"The use of quantum neural networks (QNNs) can significantly enhance the performance of quantum computing algorithms compared to classical neural networks (CNNs) in several ways:\\n\\n1. Exploiting quantum parallelism: Quantum computing relies on the principles of quantum mechanics, which allows for the simultaneous processing of multiple states through quantum parallelism. This enables QNNs to perform complex computations more efficiently than CNNs, which operate sequentially. As a result, QNNs can potentially solve problems that are intractable for classical computers.\\n\\n2. Quantum entanglement: QNNs can take advantage of quantum entanglement, a phenomenon where the state of one qubit (quantum bit) is dependent on the state of another qubit, even when they are separated by large distances. This property allows QNNs to establish correlations between different parts of the network, leading to more efficient information processing and potentially better optimization of the network's parameters.\\n\\n3. Quantum superposition: Qubits can exist in a superposition of states, meaning they can represent multiple values simultaneously. This allows QNNs to explore a larger solution space in parallel, potentially leading to faster convergence and better optimization of the network's parameters.\\n\\n4. Quantum interference: Quantum interference is another fundamental principle of quantum mechanics that can be harnessed by QNNs. It allows for constructive and destructive interference of probability amplitudes, which can be used to guide the network towards optimal solutions more efficiently.\\n\\n5. Noise resilience: Quantum computing algorithms can be designed to be more resilient to noise and errors, which is a significant challenge in classical computing. QNNs can potentially exploit this property to maintain high performance even in the presence of noise.\\n\\n6. Quantum-inspired optimization techniques: QNNs can benefit from quantum-inspired optimization techniques, such as quantum annealing and quantum approximate optimization algorithms (QAOA), which can potentially outperform classical optimization methods in certain problem domains.\\n\\nIn summary, the use of quantum neural networks can enhance the performance of quantum computing algorithms by exploiting the unique properties of quantum mechanics, such as quantum parallelism, entanglement, superposition, and interference. This allows QNNs to process information more efficiently, explore larger solution spaces, and potentially solve problems that are intractable for classical neural networks.\", 'role_1': 'Physicist_RoleType.ASSISTANT', 'source': '023_025_012.json', 'sub_topic': 'Quantum computing with quantum neural networks', 'topic': 'Quantum computing'}, page_content='Sub-topic: Quantum computing with quantum neural networks\\nText: N/A\\nRole: Physicist_RoleType.ASSISTANT\\nSource: 023_025_012.json')]"
      ]
     },
     "execution_count": 37,
     "metadata": {},
     "output_type": "execute_result"
    }
   ],
   "source": [
    "# Testing out the retreival tool itself\n",
    "retrieve(\"Quantumn Theory\")"
   ]
  },
  {
   "cell_type": "code",
   "execution_count": 38,
   "id": "473462ad",
   "metadata": {},
   "outputs": [
    {
     "name": "stdout",
     "output_type": "stream",
     "text": [
      "Message sent successfully!\n"
     ]
    }
   ],
   "source": [
    "# Discord Tool itself -> AS a raw funciton testing\n",
    "\n",
    "import sys\n",
    "import requests\n",
    "# discord_webhook_url=https://discord.com/api/webhooks/1339394284356632606/laM3rIiRAvZDJ0o5FLXrP3-b5bzx-bkskwTjtZl7j128rznq9JyD1i2ReulX_bxo5wqM\n",
    "webhook_url =  \"https://discord.com/api/webhooks/1356111484244983859/MdKULHOwZ-bYFjhEORITJEUtA7QTEyOwOWhVDPT-ER5vZkzSQA16RyaEmAj5lB8hkI6Z\"\n",
    "data = {\n",
    "    \"content\": \"Hello\"\n",
    "}\n",
    "\n",
    "response = requests.post(webhook_url, json=data)\n",
    "\n",
    "if response.status_code == 204:\n",
    "    print(\"Message sent successfully!\")\n",
    "else:\n",
    "    print(f\"Failed to send message. Status code: {response.status_code}\")\n",
    "    print(response.text)\n",
    "\n",
    "\n",
    "\n"
   ]
  },
  {
   "cell_type": "code",
   "execution_count": 39,
   "id": "6107e667",
   "metadata": {},
   "outputs": [],
   "source": [
    "import sys\n",
    "import requests\n",
    "\n",
    "def discord(message:str)->dict[str, str]:\n",
    "    \"\"\"\n",
    "    Sends a message to Discord channel via webhook.\n",
    "\n",
    "    Args:\n",
    "        message (str): Text content to send to Discord\n",
    "\n",
    "    Returns:\n",
    "        dict: {'message': 'success'} if sent, {'message': 'error message'} if failed\n",
    "    \"\"\"\n",
    "    data = {\"content\": message}\n",
    "    try:\n",
    "        response = requests.post(webhook_url, json=data)\n",
    "        if response.status_code == 204:\n",
    "            return {'message': 'success'}\n",
    "        return {'message': f'Failed to send message. Status code: {response.status_code}'}\n",
    "    except Exception as e:\n",
    "        return {'message': f'Error: {str(e)}'}"
   ]
  },
  {
   "cell_type": "code",
   "execution_count": 47,
   "id": "92e5a112",
   "metadata": {},
   "outputs": [
    {
     "data": {
      "text/plain": [
       "{'message': 'success'}"
      ]
     },
     "execution_count": 47,
     "metadata": {},
     "output_type": "execute_result"
    }
   ],
   "source": [
    "discord(\"This is tutor you\")"
   ]
  },
  {
   "cell_type": "code",
   "execution_count": null,
   "id": "57cdaf56",
   "metadata": {},
   "outputs": [],
   "source": []
  },
  {
   "cell_type": "code",
   "execution_count": 41,
   "id": "f7540b9b",
   "metadata": {},
   "outputs": [],
   "source": [
    "from typing import (\n",
    "    Annotated,\n",
    "    Sequence,\n",
    "    TypedDict,\n",
    ")\n",
    "from langchain_core.messages import BaseMessage\n",
    "from langgraph.graph.message import add_messages\n",
    "\n",
    "class AgentState(TypedDict):\n",
    "    \"\"\"The state of the agent.\"\"\"\n",
    "    messages: Annotated[Sequence[BaseMessage], add_messages]"
   ]
  },
  {
   "cell_type": "code",
   "execution_count": 42,
   "id": "932b4f99",
   "metadata": {},
   "outputs": [],
   "source": [
    "# Wrap individual tools into a utility box for our \n",
    "tools = [retrieve, discord]"
   ]
  },
  {
   "cell_type": "code",
   "execution_count": 43,
   "id": "a488c0a4",
   "metadata": {},
   "outputs": [],
   "source": [
    "import json\n",
    "from langchain_core.messages import ToolMessage, SystemMessage, AIMessage\n",
    "from langchain_core.runnables import RunnableConfig\n",
    "from langgraph.prebuilt import ToolNode\n",
    "\n",
    "\n",
    "\n",
    "def physics_agent(state: AgentState, config: RunnableConfig):\n",
    "    \"\"\"Physics tutor agent with explicit tool guidelines, history handling, and Discord tool usage.\"\"\"\n",
    "    \n",
    "    system_prompt = SystemMessage(\n",
    "        \"\"\"\n",
    "        You are an AI physics assistant, strictly designed to help students understand physics concepts.  \n",
    "        You also have access to specific tools to assist with study-related activities.  \n",
    "\n",
    "        ### **Rules and Constraints:**  \n",
    "        1. **Physics-Only Responses:**  \n",
    "           - You will **only answer physics-related questions**.  \n",
    "           - Topics include: classical mechanics, electromagnetism, quantum mechanics, thermodynamics, relativity, astrophysics, particle physics, and other core physics subjects.  \n",
    "           - If a query is not physics-related, you will respond with:  \n",
    "             **\"I can only answer physics-related questions.\"**  \n",
    "\n",
    "        2. **Clarifications Only for Physics:**  \n",
    "           - If a question is unclear, ask for clarification **only if it appears to be physics-related**.  \n",
    "\n",
    "        3. **Tool Usage Instructions:**  \n",
    "           - You have access to the following tools:  \n",
    "\n",
    "           - **Retrieve Tool:**  \n",
    "             - Fetch textbook content or reference materials.  \n",
    "             - Search by topic or concept to find detailed explanations.  \n",
    "             - If the requested information is not found, explain this to the student.  \n",
    "\n",
    "           - **Discord Tool:**  \n",
    "             - Use this tool to assist with study-related activities on Discord.  \n",
    "             - Capabilities:  \n",
    "                - **Generate Study Guides:** Create detailed, organized study guides based on requested topics.  \n",
    "                - **Create Study Group Plans:** Outline study group objectives, schedules, and topics.  \n",
    "                - **Schedule Study Sessions:** Suggest dates/times for group or individual study sessions.  \n",
    "             - Ensure that all Discord messages are clear, structured, and professional.  \n",
    "\n",
    "        4. **History Awareness:**  \n",
    "           - Use the conversation history to maintain context.  \n",
    "           - If history is insufficient, rely on the retrieve tool.  \n",
    "\n",
    "        5. **Formatting and Clarity:**  \n",
    "           - Present information clearly and concisely.  \n",
    "           - Use bullet points, equations, or step-by-step reasoning when necessary.\n",
    "\n",
    "        ---\n",
    "        **Conversation History:**  \n",
    "        {history}  \n",
    "\n",
    "        **Context:**  \n",
    "        {context}  \n",
    "\n",
    "        **Question:**  \n",
    "        {question}\n",
    "        \"\"\"\n",
    "    )\n",
    "    \n",
    "    # Model execution with tools\n",
    "    model = mistral_model.bind_tools(tools)\n",
    "\n",
    "    \n",
    "    response = model.invoke([system_prompt] + state[\"messages\"], config)\n",
    "    \n",
    "    return {\"messages\": [response]}\n",
    "\n"
   ]
  },
  {
   "cell_type": "code",
   "execution_count": 44,
   "id": "2559dc2a",
   "metadata": {},
   "outputs": [
    {
     "data": {
      "image/png": "[encoded data removed]",
      "text/plain": [
       "<IPython.core.display.Image object>"
      ]
     },
     "metadata": {},
     "output_type": "display_data"
    }
   ],
   "source": [
    "from langgraph.graph import StateGraph, END\n",
    "from langgraph.checkpoint.memory import MemorySaver\n",
    "from langgraph.prebuilt import tools_condition\n",
    "memory = MemorySaver()\n",
    "\n",
    "\n",
    "agent_tool = ToolNode(tools)\n",
    "workflow01 = StateGraph(AgentState)\n",
    "\n",
    "\n",
    "workflow01.add_node(\"agent\", physics_agent)\n",
    "workflow01.add_node(\"Utility\", agent_tool)\n",
    "\n",
    "workflow01.set_entry_point(\"agent\")\n",
    "\n",
    "workflow01.add_conditional_edges(\n",
    "    \"agent\",\n",
    "    tools_condition ,\n",
    "    {\n",
    "        \"tools\": \"Utility\",\n",
    "        END: END,\n",
    "\n",
    "    },\n",
    ")\n",
    "\n",
    "workflow01.add_edge(\"Utility\", \"agent\") \n",
    "\n",
    "graph01 = workflow01.compile(checkpointer=memory) \n",
    "\n",
    "\n",
    "from IPython.display import Image, display\n",
    "try:\n",
    "    display(Image(graph01.get_graph().draw_mermaid_png()))\n",
    "except Exception:\n",
    "    pass"
   ]
  },
  {
   "cell_type": "markdown",
   "id": "9649bd49",
   "metadata": {},
   "source": []
  },
  {
   "cell_type": "code",
   "execution_count": null,
   "id": "472172e2",
   "metadata": {},
   "outputs": [],
   "source": []
  },
  {
   "cell_type": "code",
   "execution_count": 48,
   "id": "cf8d2dba",
   "metadata": {},
   "outputs": [
    {
     "name": "stdout",
     "output_type": "stream",
     "text": [
      "================================\u001b[1m Human Message \u001b[0m=================================\n",
      "\n",
      "could you explain quantumn theory and send it on discord? \n",
      "==================================\u001b[1m Ai Message \u001b[0m==================================\n",
      "Tool Calls:\n",
      "  discord (zafKOR7Hi)\n",
      " Call ID: zafKOR7Hi\n",
      "  Args:\n",
      "    message: Quantum theory is a fundamental theory in physics that provides a description of the physical properties of nature at the scale of atoms and subatomic particles. It introduces some of the most groundbreaking and, admittedly, confusing concepts in all of physics. \n",
      "\n",
      "### Key Concepts:\n",
      "\n",
      "1. **Wave-Particle Duality**: \n",
      "   - In quantum theory, particles can exhibit both wave-like and particle-like properties. This is famously demonstrated by the double-slit experiment. \n",
      "\n",
      "2. **Superposition**: \n",
      "   - Particles can exist in multiple states or places at once until they are measured. This is often illustrated by the thought experiment of Schrödinger's cat, which is simultaneously both alive and dead until observed. \n",
      "\n",
      "3. **Quantization**: \n",
      "   - Many properties of quantum systems are quantized, meaning they can only take on specific, discrete values rather than any value. \n",
      "\n",
      "4. **Uncertainty Principle**: \n",
      "   - Formulated by Werner Heisenberg, this principle states that it is impossible to simultaneously know the exact position and momentum of a particle. The more precisely one property is measured, the less precisely the other can be controlled, determined, or known. \n",
      "\n",
      "5. **Entanglement**: \n",
      "   - Particles can become entangled, such that the state of one particle is dependent on the state of another, no matter the distance between them. This phenomenon was famously described by Einstein as 'spooky action at a distance.' \n",
      "\n",
      "### Applications:\n",
      "\n",
      "- **Quantum Computing**: Utilizes quantum bits (qubits) to perform complex calculations much faster than classical computers. \n",
      "- **Quantum Cryptography**: Exploits the principles of quantum mechanics to create secure communication channels. \n",
      "- **Quantum Teleportation**: Involves the transfer of quantum states from one location to another, without moving the physical particles themselves. \n",
      "\n",
      "### Historical Context:\n",
      "\n",
      "- The development of quantum theory began in the early 20th century with pioneers like Max Planck, Albert Einstein, Niels Bohr, and Erwin Schrödinger. \n",
      "- It has revolutionized our understanding of the microscopic world and has led to significant technological advancements. \n",
      "\n",
      "### Mathematical Foundation:\n",
      "\n",
      "- Quantum theory is deeply rooted in complex mathematical frameworks, including linear algebra and differential equations. The Schrödinger equation is a fundamental equation that describes how the quantum state of a physical system changes with time. \n",
      "\n",
      "Quantum theory continues to be a rich area of research, with physicists exploring its implications for understanding the universe and developing new technologies.\n",
      "=================================\u001b[1m Tool Message \u001b[0m=================================\n",
      "Name: discord\n",
      "\n",
      "{\"message\": \"Failed to send message. Status code: 400\"}\n",
      "==================================\u001b[1m Ai Message \u001b[0m==================================\n",
      "\n",
      "I can only answer physics-related questions.\n",
      "\n",
      "I encountered an error while trying to send the message to Discord. The status code 400 indicates a bad request, which could be due to several reasons such as incorrect webhook URL, invalid message content, or issues with the Discord server.\n",
      "\n",
      "Here is the information on quantum theory that I attempted to send:\n",
      "\n",
      "### Quantum Theory\n",
      "\n",
      "Quantum theory is a fundamental theory in physics that provides a description of the physical properties of nature at the scale of atoms and subatomic particles. It introduces some of the most groundbreaking and, admittedly, confusing concepts in all of physics.\n",
      "\n",
      "#### Key Concepts:\n",
      "\n",
      "1. **Wave-Particle Duality**:\n",
      "   - In quantum theory, particles can exhibit both wave-like and particle-like properties. This is famously demonstrated by the double-slit experiment.\n",
      "\n",
      "2. **Superposition**:\n",
      "   - Particles can exist in multiple states or places at once until they are measured. This is often illustrated by the thought experiment of Schrödinger's cat, which is simultaneously both alive and dead until observed.\n",
      "\n",
      "3. **Quantization**:\n",
      "   - Many properties of quantum systems are quantized, meaning they can only take on specific, discrete values rather than any value.\n",
      "\n",
      "4. **Uncertainty Principle**:\n",
      "   - Formulated by Werner Heisenberg, this principle states that it is impossible to simultaneously know the exact position and momentum of a particle. The more precisely one property is measured, the less precisely the other can be controlled, determined, or known.\n",
      "\n",
      "5. **Entanglement**:\n",
      "   - Particles can become entangled, such that the state of one particle is dependent on the state of another, no matter the distance between them. This phenomenon was famously described by Einstein as 'spooky action at a distance.'\n",
      "\n",
      "#### Applications:\n",
      "\n",
      "- **Quantum Computing**: Utilizes quantum bits (qubits) to perform complex calculations much faster than classical computers.\n",
      "- **Quantum Cryptography**: Exploits the principles of quantum mechanics to create secure communication channels.\n",
      "- **Quantum Teleportation**: Involves the transfer of quantum states from one location to another, without moving the physical particles themselves.\n",
      "\n",
      "#### Historical Context:\n",
      "\n",
      "- The development of quantum theory began in the early 20th century with pioneers like Max Planck, Albert Einstein, Niels Bohr, and Erwin Schrödinger.\n",
      "- It has revolutionized our understanding of the microscopic world and has led to significant technological advancements.\n",
      "\n",
      "#### Mathematical Foundation:\n",
      "\n",
      "- Quantum theory is deeply rooted in complex mathematical frameworks, including linear algebra and differential equations. The Schrödinger equation is a fundamental equation that describes how the quantum state of a physical system changes with time.\n",
      "\n",
      "Quantum theory continues to be a rich area of research, with physicists exploring its implications for understanding the universe and developing new technologies.\n",
      "================================\u001b[1m Human Message \u001b[0m=================================\n",
      "\n",
      "could you send that on discord? \n",
      "==================================\u001b[1m Ai Message \u001b[0m==================================\n",
      "Tool Calls:\n",
      "  discord (IrqiaBJl7)\n",
      " Call ID: IrqiaBJl7\n",
      "  Args:\n",
      "    message: Quantum theory is a fundamental theory in physics that provides a description of the physical properties of nature at the scale of atoms and subatomic particles. It introduces some of the most groundbreaking and, admittedly, confusing concepts in all of physics. \n",
      "\n",
      "### Key Concepts:\n",
      "\n",
      "1. **Wave-Particle Duality**: \n",
      "   - In quantum theory, particles can exhibit both wave-like and particle-like properties. This is famously demonstrated by the double-slit experiment. \n",
      "\n",
      "2. **Superposition**: \n",
      "   - Particles can exist in multiple states or places at once until they are measured. This is often illustrated by the thought experiment of Schrödinger's cat, which is simultaneously both alive and dead until observed. \n",
      "\n",
      "3. **Quantization**: \n",
      "   - Many properties of quantum systems are quantized, meaning they can only take on specific, discrete values rather than any value. \n",
      "\n",
      "4. **Uncertainty Principle**: \n",
      "   - Formulated by Werner Heisenberg, this principle states that it is impossible to simultaneously know the exact position and momentum of a particle. The more precisely one property is measured, the less precisely the other can be controlled, determined, or known. \n",
      "\n",
      "5. **Entanglement**: \n",
      "   - Particles can become entangled, such that the state of one particle is dependent on the state of another, no matter the distance between them. This phenomenon was famously described by Einstein as 'spooky action at a distance.' \n",
      "\n",
      "### Applications:\n",
      "\n",
      "- **Quantum Computing**: Utilizes quantum bits (qubits) to perform complex calculations much faster than classical computers. \n",
      "- **Quantum Cryptography**: Exploits the principles of quantum mechanics to create secure communication channels. \n",
      "- **Quantum Teleportation**: Involves the transfer of quantum states from one location to another, without moving the physical particles themselves. \n",
      "\n",
      "### Historical Context:\n",
      "\n",
      "- The development of quantum theory began in the early 20th century with pioneers like Max Planck, Albert Einstein, Niels Bohr, and Erwin Schrödinger. \n",
      "- It has revolutionized our understanding of the microscopic world and has led to significant technological advancements. \n",
      "\n",
      "### Mathematical Foundation:\n",
      "\n",
      "- Quantum theory is deeply rooted in complex mathematical frameworks, including linear algebra and differential equations. The Schrödinger equation is a fundamental equation that describes how the quantum state of a physical system changes with time. \n",
      "\n",
      "Quantum theory continues to be a rich area of research, with physicists exploring its implications for understanding the universe and developing new technologies.\n",
      "=================================\u001b[1m Tool Message \u001b[0m=================================\n",
      "Name: discord\n",
      "\n",
      "{\"message\": \"Failed to send message. Status code: 400\"}\n",
      "==================================\u001b[1m Ai Message \u001b[0m==================================\n",
      "\n",
      "I encountered an error while trying to send the message to Discord. The status code 400 indicates a bad request, which could be due to several reasons such as incorrect webhook URL, invalid message content, or issues with the Discord server.\n",
      "\n",
      "Please check the webhook URL and ensure that the message content is valid. If the problem persists, you may need to contact Discord support for further assistance.\n"
     ]
    },
    {
     "ename": "KeyboardInterrupt",
     "evalue": "Interrupted by user",
     "output_type": "error",
     "traceback": [
      "\u001b[0;31m---------------------------------------------------------------------------\u001b[0m",
      "\u001b[0;31mKeyboardInterrupt\u001b[0m                         Traceback (most recent call last)",
      "Cell \u001b[0;32mIn[48], line 4\u001b[0m\n\u001b[1;32m      1\u001b[0m \u001b[38;5;28;01mfrom\u001b[39;00m \u001b[38;5;21;01mlangchain_core\u001b[39;00m\u001b[38;5;21;01m.\u001b[39;00m\u001b[38;5;21;01mmessages\u001b[39;00m \u001b[38;5;28;01mimport\u001b[39;00m HumanMessage\n\u001b[1;32m      3\u001b[0m \u001b[38;5;28;01mwhile\u001b[39;00m \u001b[38;5;28;01mTrue\u001b[39;00m:\n\u001b[0;32m----> 4\u001b[0m     user_input \u001b[38;5;241m=\u001b[39m \u001b[38;5;28;43minput\u001b[39;49m\u001b[43m(\u001b[49m\u001b[38;5;124;43m\"\u001b[39;49m\u001b[38;5;124;43mYour question: \u001b[39;49m\u001b[38;5;124;43m\"\u001b[39;49m\u001b[43m)\u001b[49m\n\u001b[1;32m      5\u001b[0m     \u001b[38;5;28;01mif\u001b[39;00m user_input\u001b[38;5;241m.\u001b[39mlower() \u001b[38;5;241m==\u001b[39m \u001b[38;5;124m\"\u001b[39m\u001b[38;5;124mexit\u001b[39m\u001b[38;5;124m\"\u001b[39m:\n\u001b[1;32m      6\u001b[0m         \u001b[38;5;28;01mbreak\u001b[39;00m\n",
      "File \u001b[0;32m~/miniconda3/envs/foodieproject/lib/python3.9/site-packages/ipykernel/kernelbase.py:1282\u001b[0m, in \u001b[0;36mKernel.raw_input\u001b[0;34m(self, prompt)\u001b[0m\n\u001b[1;32m   1280\u001b[0m     msg \u001b[38;5;241m=\u001b[39m \u001b[38;5;124m\"\u001b[39m\u001b[38;5;124mraw_input was called, but this frontend does not support input requests.\u001b[39m\u001b[38;5;124m\"\u001b[39m\n\u001b[1;32m   1281\u001b[0m     \u001b[38;5;28;01mraise\u001b[39;00m StdinNotImplementedError(msg)\n\u001b[0;32m-> 1282\u001b[0m \u001b[38;5;28;01mreturn\u001b[39;00m \u001b[38;5;28;43mself\u001b[39;49m\u001b[38;5;241;43m.\u001b[39;49m\u001b[43m_input_request\u001b[49m\u001b[43m(\u001b[49m\n\u001b[1;32m   1283\u001b[0m \u001b[43m    \u001b[49m\u001b[38;5;28;43mstr\u001b[39;49m\u001b[43m(\u001b[49m\u001b[43mprompt\u001b[49m\u001b[43m)\u001b[49m\u001b[43m,\u001b[49m\n\u001b[1;32m   1284\u001b[0m \u001b[43m    \u001b[49m\u001b[38;5;28;43mself\u001b[39;49m\u001b[38;5;241;43m.\u001b[39;49m\u001b[43m_parent_ident\u001b[49m\u001b[43m[\u001b[49m\u001b[38;5;124;43m\"\u001b[39;49m\u001b[38;5;124;43mshell\u001b[39;49m\u001b[38;5;124;43m\"\u001b[39;49m\u001b[43m]\u001b[49m\u001b[43m,\u001b[49m\n\u001b[1;32m   1285\u001b[0m \u001b[43m    \u001b[49m\u001b[38;5;28;43mself\u001b[39;49m\u001b[38;5;241;43m.\u001b[39;49m\u001b[43mget_parent\u001b[49m\u001b[43m(\u001b[49m\u001b[38;5;124;43m\"\u001b[39;49m\u001b[38;5;124;43mshell\u001b[39;49m\u001b[38;5;124;43m\"\u001b[39;49m\u001b[43m)\u001b[49m\u001b[43m,\u001b[49m\n\u001b[1;32m   1286\u001b[0m \u001b[43m    \u001b[49m\u001b[43mpassword\u001b[49m\u001b[38;5;241;43m=\u001b[39;49m\u001b[38;5;28;43;01mFalse\u001b[39;49;00m\u001b[43m,\u001b[49m\n\u001b[1;32m   1287\u001b[0m \u001b[43m\u001b[49m\u001b[43m)\u001b[49m\n",
      "File \u001b[0;32m~/miniconda3/envs/foodieproject/lib/python3.9/site-packages/ipykernel/kernelbase.py:1325\u001b[0m, in \u001b[0;36mKernel._input_request\u001b[0;34m(self, prompt, ident, parent, password)\u001b[0m\n\u001b[1;32m   1322\u001b[0m \u001b[38;5;28;01mexcept\u001b[39;00m \u001b[38;5;167;01mKeyboardInterrupt\u001b[39;00m:\n\u001b[1;32m   1323\u001b[0m     \u001b[38;5;66;03m# re-raise KeyboardInterrupt, to truncate traceback\u001b[39;00m\n\u001b[1;32m   1324\u001b[0m     msg \u001b[38;5;241m=\u001b[39m \u001b[38;5;124m\"\u001b[39m\u001b[38;5;124mInterrupted by user\u001b[39m\u001b[38;5;124m\"\u001b[39m\n\u001b[0;32m-> 1325\u001b[0m     \u001b[38;5;28;01mraise\u001b[39;00m \u001b[38;5;167;01mKeyboardInterrupt\u001b[39;00m(msg) \u001b[38;5;28;01mfrom\u001b[39;00m \u001b[38;5;28;01mNone\u001b[39;00m\n\u001b[1;32m   1326\u001b[0m \u001b[38;5;28;01mexcept\u001b[39;00m \u001b[38;5;167;01mException\u001b[39;00m:\n\u001b[1;32m   1327\u001b[0m     \u001b[38;5;28mself\u001b[39m\u001b[38;5;241m.\u001b[39mlog\u001b[38;5;241m.\u001b[39mwarning(\u001b[38;5;124m\"\u001b[39m\u001b[38;5;124mInvalid Message:\u001b[39m\u001b[38;5;124m\"\u001b[39m, exc_info\u001b[38;5;241m=\u001b[39m\u001b[38;5;28;01mTrue\u001b[39;00m)\n",
      "\u001b[0;31mKeyboardInterrupt\u001b[0m: Interrupted by user"
     ]
    }
   ],
   "source": [
    "from langchain_core.messages import HumanMessage\n",
    "\n",
    "while True:\n",
    "    user_input = input(\"Your question: \")\n",
    "    if user_input.lower() == \"exit\":\n",
    "        break\n",
    "    input_message = [HumanMessage(content=user_input)]\n",
    "\n",
    "    config = {\"configurable\": {\"session_id\": \"abc123\", \"thread_id\": \"abc123\"}}\n",
    "\n",
    "    for step in graph01.stream({\"messages\": input_message}, config=config, stream_mode=\"values\"):\n",
    "        if \"messages\" in step and step[\"messages\"]:\n",
    "            step[\"messages\"][-1].pretty_print()"
   ]
  },
  {
   "cell_type": "code",
   "execution_count": null,
   "id": "9bdf39b4",
   "metadata": {},
   "outputs": [],
   "source": []
  },
  {
   "cell_type": "code",
   "execution_count": null,
   "id": "14af0744",
   "metadata": {},
   "outputs": [],
   "source": []
  },
  {
   "cell_type": "markdown",
   "id": "bb657e74",
   "metadata": {},
   "source": []
  },
  {
   "cell_type": "code",
   "execution_count": null,
   "id": "c9d0d9b9",
   "metadata": {},
   "outputs": [],
   "source": []
  },
  {
   "cell_type": "code",
   "execution_count": null,
   "id": "f47660cc",
   "metadata": {},
   "outputs": [],
   "source": []
  },
  {
   "cell_type": "code",
   "execution_count": null,
   "id": "97b6fdc9",
   "metadata": {},
   "outputs": [],
   "source": []
  }
 ],
 "metadata": {
  "kernelspec": {
   "display_name": "foodieproject",
   "language": "python",
   "name": "python3"
  },
  "language_info": {
   "codemirror_mode": {
    "name": "ipython",
    "version": 3
   },
   "file_extension": ".py",
   "mimetype": "text/x-python",
   "name": "python",
   "nbconvert_exporter": "python",
   "pygments_lexer": "ipython3",
   "version": "3.9.19"
  }
 },
 "nbformat": 4,
 "nbformat_minor": 5
}
